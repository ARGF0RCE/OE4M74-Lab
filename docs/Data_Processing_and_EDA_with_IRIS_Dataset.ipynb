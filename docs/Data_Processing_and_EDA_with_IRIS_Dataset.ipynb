{
 "cells": [
  {
   "cell_type": "markdown",
   "id": "74784716",
   "metadata": {},
   "source": [
    "# Data Preprocessing and EDA with the Iris Dataset\n",
    "\n",
    "## Table of Contents\n",
    "1. [Introduction](#introduction)\n",
    "2. [Understanding the Iris Dataset](#understanding-the-iris-dataset)\n",
    "3. [Data Preprocessing](#data-preprocessing)\n",
    "4. [Exploratory Data Analysis (EDA)](#exploratory-data-analysis)\n",
    "5. [Principal Component Analysis (PCA)](#principal-component-analysis)\n",
    "6. [Conclusion](#conclusion)\n",
    "\n",
    "---\n",
    "\n",
    "## Introduction\n",
    "\n",
    "Welcome to this guide on Data Preprocessing and Exploratory Data Analysis (EDA) using the Iris dataset. We will also delve into Principal Component Analysis (PCA) to understand how to reduce the dimensionality of our data.\n",
    "\n",
    "---\n",
    "\n",
    "## Understanding the Iris Dataset\n",
    "\n",
    "The Iris dataset is a simple but widely used dataset in pattern recognition. It contains 3 classes of 50 instances each, where each class refers to a type of iris plant. The dataset has the following attributes:\n",
    "\n",
    "1. **Sepal Length**: Length of the sepal in cm\n",
    "2. **Sepal Width**: Width of the sepal in cm\n",
    "3. **Petal Length**: Length of the petal in cm\n",
    "4. **Petal Width**: Width of the petal in cm\n",
    "5. **Class**: Species of the iris plant (Iris Setosa, Iris Versicolour, Iris Virginica)\n",
    "\n",
    "---\n",
    "\n",
    "## Data Preprocessing\n",
    "\n",
    "Before diving into any analysis, it's crucial to preprocess the data."
   ]
  },
  {
   "cell_type": "code",
   "execution_count": null,
   "id": "64c49ffb",
   "metadata": {},
   "outputs": [],
   "source": [
    "# Importing libraries and loading the dataset\n",
    "from sklearn.datasets import load_iris\n",
    "import pandas as pd\n",
    "\n",
    "iris = load_iris()\n",
    "df = pd.DataFrame(data=iris.data, columns=iris.feature_names)\n",
    "df['class'] = iris.target"
   ]
  },
  {
   "cell_type": "markdown",
   "id": "958597f0",
   "metadata": {},
   "source": [
    "---\n",
    "\n",
    "## Exploratory Data Analysis (EDA)\n",
    "\n",
    "EDA is all about understanding the data through visualizations and summaries.\n",
    "\n",
    "### Summary Statistics"
   ]
  },
  {
   "cell_type": "code",
   "execution_count": null,
   "id": "c9dadab1",
   "metadata": {},
   "outputs": [],
   "source": [
    "# Summary statistics\n",
    "df.describe()"
   ]
  },
  {
   "cell_type": "markdown",
   "id": "c4983230",
   "metadata": {},
   "source": [
    "### Data Visualization\n",
    "\n",
    "#### Histograms"
   ]
  },
  {
   "cell_type": "code",
   "execution_count": null,
   "id": "f87da0d3",
   "metadata": {},
   "outputs": [],
   "source": [
    "# Importing matplotlib for data visualization\n",
    "import matplotlib.pyplot as plt\n",
    "\n",
    "# Plotting histograms for each feature\n",
    "df.hist()\n",
    "plt.show()"
   ]
  },
  {
   "cell_type": "markdown",
   "id": "858effd7",
   "metadata": {},
   "source": [
    "#### Scatter Plots"
   ]
  },
  {
   "cell_type": "code",
   "execution_count": null,
   "id": "1d257fbd",
   "metadata": {},
   "outputs": [],
   "source": [
    "# Scatter plot based on Sepal Length and Width\n",
    "plt.scatter(df['sepal length (cm)'], df['sepal width (cm)'], c=df['class'])\n",
    "plt.xlabel('Sepal Length')\n",
    "plt.ylabel('Sepal Width')\n",
    "plt.show()"
   ]
  },
  {
   "cell_type": "markdown",
   "id": "e9a891dd",
   "metadata": {},
   "source": [
    "---\n",
    "\n",
    "## Principal Component Analysis (PCA)\n",
    "\n",
    "PCA is a technique used to reduce the dimensionality of the dataset.\n",
    "\n",
    "### How Does PCA Work?\n",
    "\n",
    "1. **Standardization**: Standardize the dataset.\n",
    "2. **Covariance Matrix**: Compute the covariance matrix.\n",
    "3. **Eigenvalues and Eigenvectors**: Compute eigenvalues and eigenvectors.\n",
    "4. **Sort and Select**: Sort eigenvalues and select the top k eigenvectors.\n",
    "5. **New Dataset**: Form the new dataset."
   ]
  },
  {
   "cell_type": "code",
   "execution_count": null,
   "id": "0a460822",
   "metadata": {},
   "outputs": [],
   "source": [
    "# Implementing PCA\n",
    "from sklearn.decomposition import PCA\n",
    "\n",
    "# Standardizing the data\n",
    "from sklearn.preprocessing import StandardScaler\n",
    "scaler = StandardScaler()\n",
    "X_scaled = scaler.fit_transform(df.iloc[:, :-1])\n",
    "\n",
    "# Applying PCA\n",
    "pca = PCA(n_components=2)\n",
    "X_pca = pca.fit_transform(X_scaled)\n",
    "\n",
    "# Scatter plot for the first two principal components\n",
    "plt.scatter(X_pca[:, 0], X_pca[:, 1], c=df['class'])\n",
    "plt.xlabel('First Principal Component')\n",
    "plt.ylabel('Second Principal Component')\n",
    "plt.show()"
   ]
  },
  {
   "cell_type": "markdown",
   "id": "1c08f7e7",
   "metadata": {},
   "source": [
    "### Interpretation\n",
    "\n",
    "The scatter plot of the first two principal components should show a clear separation between the different classes of the iris plant. This indicates that the reduced dataset still contains most of the original dataset's variance.\n",
    "\n",
    "---\n",
    "\n",
    "## Conclusion\n",
    "\n",
    "We've covered Data Preprocessing, EDA, and PCA using the Iris dataset. Understanding these concepts is crucial for anyone diving into Data Science and Machine Learning.\n"
   ]
  }
 ],
 "metadata": {
  "jupytext": {
   "cell_metadata_filter": "-all",
   "main_language": "python",
   "notebook_metadata_filter": "-all"
  }
 },
 "nbformat": 4,
 "nbformat_minor": 5
}
