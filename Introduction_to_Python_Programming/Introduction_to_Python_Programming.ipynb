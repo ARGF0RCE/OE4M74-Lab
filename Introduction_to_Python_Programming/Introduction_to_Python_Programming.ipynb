{
 "cells": [
  {
   "cell_type": "markdown",
   "id": "6323b691",
   "metadata": {},
   "source": [
    "# Introduction to Python Programming for AI & ML\n",
    "\n",
    "Python is a powerful programming language widely used in the fields of Artificial Intelligence (AI) and Machine Learning (ML). This notebook serves as an introduction to Python, focusing on aspects that are particularly relevant for AI and ML applications.\n",
    "\n",
    "## Basics of Python\n",
    "\n",
    "### Printing and Variables\n",
    "\n",
    "Python allows us to print text and store values in variables. Here's an example:"
   ]
  },
  {
   "cell_type": "code",
   "execution_count": null,
   "id": "88a4427e",
   "metadata": {},
   "outputs": [],
   "source": [
    "message = \"Welcome to AI & ML with Python!\"\n",
    "print(message)"
   ]
  },
  {
   "cell_type": "markdown",
   "id": "a96d243a",
   "metadata": {},
   "source": [
    "### Data Types\n",
    "\n",
    "Understanding basic data types such as integers, floats, strings, and booleans is essential."
   ]
  },
  {
   "cell_type": "code",
   "execution_count": null,
   "id": "103d9de7",
   "metadata": {},
   "outputs": [],
   "source": [
    "integer_number = 10\n",
    "floating_number = 5.6\n",
    "text = \"Python for AI & ML\"\n",
    "flag = True\n",
    "\n",
    "print(type(integer_number), type(floating_number), type(text), type(flag))"
   ]
  },
  {
   "cell_type": "markdown",
   "id": "483b4ae6",
   "metadata": {},
   "source": [
    "### Lists and Dictionaries\n",
    "\n",
    "Python provides powerful data structures like lists and dictionaries.\n",
    "\n",
    "#### Lists"
   ]
  },
  {
   "cell_type": "code",
   "execution_count": null,
   "id": "968f15c7",
   "metadata": {},
   "outputs": [],
   "source": [
    "my_list = [1, 2, 3, 4]\n",
    "my_list.append(5)\n",
    "print(my_list)"
   ]
  },
  {
   "cell_type": "markdown",
   "id": "b8dbacdc",
   "metadata": {},
   "source": [
    "#### Dictionaries"
   ]
  },
  {
   "cell_type": "code",
   "execution_count": null,
   "id": "517793b3",
   "metadata": {},
   "outputs": [],
   "source": [
    "my_dict = {'a': 1, 'b': 2, 'c': 3}\n",
    "print(my_dict['b'])"
   ]
  },
  {
   "cell_type": "markdown",
   "id": "034996fb",
   "metadata": {},
   "source": [
    "## Control Structures\n",
    "\n",
    "Control structures are fundamental in programming. They allow you to control the flow of the program.\n",
    "\n",
    "### Conditional Statements\n",
    "\n",
    "The use of `if`, `elif`, and `else` to control the flow of code based on conditions."
   ]
  },
  {
   "cell_type": "code",
   "execution_count": null,
   "id": "9fd9ab84",
   "metadata": {},
   "outputs": [],
   "source": [
    "x = 10\n",
    "if x > 10:\n",
    "    print(\"x is greater than 10\")\n",
    "elif x == 10:\n",
    "    print(\"x is equal to 10\")\n",
    "else:\n",
    "    print(\"x is less than 10\")"
   ]
  },
  {
   "cell_type": "markdown",
   "id": "481ec145",
   "metadata": {},
   "source": [
    "### Loops\n",
    "\n",
    "Loops are used to repeat code.\n",
    "\n",
    "#### For Loops"
   ]
  },
  {
   "cell_type": "code",
   "execution_count": null,
   "id": "890fd1ed",
   "metadata": {},
   "outputs": [],
   "source": [
    "for i in range(5):\n",
    "    print(i)"
   ]
  },
  {
   "cell_type": "markdown",
   "id": "aa12f157",
   "metadata": {},
   "source": [
    "#### While Loops"
   ]
  },
  {
   "cell_type": "code",
   "execution_count": null,
   "id": "25ecf28f",
   "metadata": {},
   "outputs": [],
   "source": [
    "count = 0\n",
    "while count < 5:\n",
    "    print(count)\n",
    "    count += 1"
   ]
  },
  {
   "cell_type": "markdown",
   "id": "eed3ba27",
   "metadata": {},
   "source": [
    "### List Comprehensions\n",
    "\n",
    "List comprehensions provide a concise way to create lists."
   ]
  },
  {
   "cell_type": "code",
   "execution_count": null,
   "id": "5da3f778",
   "metadata": {},
   "outputs": [],
   "source": [
    "squares = [x**2 for x in range(10)]\n",
    "print(squares)"
   ]
  },
  {
   "cell_type": "markdown",
   "id": "cb43c91a",
   "metadata": {},
   "source": [
    "## Lambda Functions\n",
    "\n",
    "Lambda functions are small anonymous functions defined with the `lambda` keyword."
   ]
  },
  {
   "cell_type": "code",
   "execution_count": null,
   "id": "9ef928ff",
   "metadata": {},
   "outputs": [],
   "source": [
    "multiply = lambda x, y: x * y\n",
    "print(multiply(3, 4))"
   ]
  },
  {
   "cell_type": "markdown",
   "id": "a7fdef4d",
   "metadata": {},
   "source": [
    "They are particularly useful when used with functions like `map`, `filter`, and `reduce`."
   ]
  },
  {
   "cell_type": "code",
   "execution_count": null,
   "id": "d951c331",
   "metadata": {},
   "outputs": [],
   "source": [
    "numbers = [1, 2, 3, 4]\n",
    "squares = map(lambda x: x**2, numbers)\n",
    "print(list(squares))"
   ]
  },
  {
   "cell_type": "markdown",
   "id": "717e9afc",
   "metadata": {},
   "source": [
    "## Regular Expressions\n",
    "\n",
    "Regular expressions are used to match patterns in strings. The `re` module in Python provides functionalities to work with regular expressions.\n",
    "\n",
    "### Matching a Pattern"
   ]
  },
  {
   "cell_type": "code",
   "execution_count": null,
   "id": "401fdfc1",
   "metadata": {},
   "outputs": [],
   "source": [
    "import re\n",
    "\n",
    "pattern = re.compile(r'\\d+') # Matches one or more digits\n",
    "result = pattern.match(\"12345 is a number\")\n",
    "print(result.group())"
   ]
  },
  {
   "cell_type": "markdown",
   "id": "177aad9a",
   "metadata": {},
   "source": [
    "### Searching for a Pattern"
   ]
  },
  {
   "cell_type": "code",
   "execution_count": null,
   "id": "797bea3e",
   "metadata": {},
   "outputs": [],
   "source": [
    "result = pattern.search(\"The number 12345 is here\")\n",
    "print(result.group())"
   ]
  },
  {
   "cell_type": "markdown",
   "id": "4351afe0",
   "metadata": {},
   "source": [
    "### Replacing a Pattern"
   ]
  },
  {
   "cell_type": "code",
   "execution_count": null,
   "id": "62cf865a",
   "metadata": {},
   "outputs": [],
   "source": [
    "new_string = re.sub(r'\\d+', 'NUMBER', \"12345 is a number\")\n",
    "print(new_string)"
   ]
  },
  {
   "cell_type": "markdown",
   "id": "b15fee90",
   "metadata": {},
   "source": [
    "### Splitting a String Based on a Pattern"
   ]
  },
  {
   "cell_type": "code",
   "execution_count": null,
   "id": "6ef46267",
   "metadata": {},
   "outputs": [],
   "source": [
    "split_string = re.split(r'\\s+', \"Split on spaces\")\n",
    "print(split_string)"
   ]
  },
  {
   "cell_type": "markdown",
   "id": "1abcf84d",
   "metadata": {},
   "source": [
    "Regular expressions are powerful but can be complex. It's good to practice with various examples to get comfortable with them.\n",
    "\n",
    "## Conclusion\n",
    "\n",
    "With the understanding of control structures, lambda functions, and regular expressions, you now have more tools to write effective and efficient Python code for AI and ML applications. These concepts form the building blocks of many algorithms and data processing tasks in AI and ML.\n",
    "\n",
    "### Conditional Statements"
   ]
  },
  {
   "cell_type": "code",
   "execution_count": null,
   "id": "7b9945d2",
   "metadata": {},
   "outputs": [],
   "source": [
    "x = 10\n",
    "if x > 5:\n",
    "    print(\"x is greater than 5\")\n",
    "else:\n",
    "    print(\"x is not greater than 5\")"
   ]
  },
  {
   "cell_type": "markdown",
   "id": "afee305f",
   "metadata": {},
   "source": [
    "### Loops"
   ]
  },
  {
   "cell_type": "code",
   "execution_count": null,
   "id": "b374bee6",
   "metadata": {},
   "outputs": [],
   "source": [
    "for i in range(5):\n",
    "    print(i)"
   ]
  },
  {
   "cell_type": "markdown",
   "id": "6706c5f5",
   "metadata": {},
   "source": [
    "## Functions\n",
    "\n",
    "Creating functions is essential for writing modular and maintainable code."
   ]
  },
  {
   "cell_type": "code",
   "execution_count": null,
   "id": "bb6eeb3c",
   "metadata": {},
   "outputs": [],
   "source": [
    "def add_numbers(a, b):\n",
    "    return a + b\n",
    "\n",
    "print(add_numbers(3, 4))"
   ]
  },
  {
   "cell_type": "markdown",
   "id": "f8731a87",
   "metadata": {},
   "source": [
    "## Libraries for AI & ML\n",
    "\n",
    "Python’s ecosystem includes many libraries designed specifically for AI & ML.\n",
    "\n",
    "### NumPy\n",
    "\n",
    "NumPy is a library for numerical operations."
   ]
  },
  {
   "cell_type": "code",
   "execution_count": null,
   "id": "474bef99",
   "metadata": {},
   "outputs": [],
   "source": [
    "import numpy as np\n",
    "\n",
    "array = np.array([1, 2, 3])\n",
    "print(array)"
   ]
  },
  {
   "cell_type": "markdown",
   "id": "7e48cfc2",
   "metadata": {},
   "source": [
    "### Pandas\n",
    "\n",
    "Pandas is used for data manipulation and analysis."
   ]
  },
  {
   "cell_type": "code",
   "execution_count": null,
   "id": "bdb5703f",
   "metadata": {},
   "outputs": [],
   "source": [
    "import pandas as pd\n",
    "\n",
    "data = {'Name': ['Alice', 'Bob'], 'Age': [25, 22]}\n",
    "df = pd.DataFrame(data)\n",
    "print(df)"
   ]
  },
  {
   "cell_type": "markdown",
   "id": "791b6b1a",
   "metadata": {},
   "source": [
    "### Scikit-learn\n",
    "\n",
    "Scikit-learn provides tools for data mining and data analysis."
   ]
  },
  {
   "cell_type": "code",
   "execution_count": null,
   "id": "63a36901",
   "metadata": {},
   "outputs": [],
   "source": [
    "from sklearn.datasets import load_iris\n",
    "\n",
    "iris = load_iris()\n",
    "print(iris.data[0:5])"
   ]
  },
  {
   "cell_type": "markdown",
   "id": "fb592c13",
   "metadata": {},
   "source": [
    "### TensorFlow and Keras\n",
    "\n",
    "TensorFlow and Keras are popular for deep learning."
   ]
  },
  {
   "cell_type": "code",
   "execution_count": null,
   "id": "3d3a28ce",
   "metadata": {},
   "outputs": [],
   "source": [
    "import tensorflow as tf\n",
    "from tensorflow import keras\n",
    "\n",
    "print(tf.__version__)"
   ]
  },
  {
   "cell_type": "markdown",
   "id": "eb90eb24",
   "metadata": {},
   "source": []
  }
 ],
 "metadata": {},
 "nbformat": 4,
 "nbformat_minor": 5
}
